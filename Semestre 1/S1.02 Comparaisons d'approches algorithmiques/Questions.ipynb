{
 "cells": [
  {
   "cell_type": "markdown",
   "id": "2be3d2ea",
   "metadata": {},
   "source": [
    "Question 2 : \n",
    "Théorie :\n",
    "La fonction dico_reseau parcourt deux fois le tableau de couples d'amis, une fois pour créer la liste des personnes et une fois pour construire le dictionnaire. La fonction create_network parcourt une seule fois le tableau de couples d'amis. Ainsi, on peut dire que la fonction create_network est plus efficace en termes de complexité temporelle.\n",
    "\n",
    "Expérience : \n",
    "Il est possible de mesurer les temps d'exécution des deux fonctions en utilisant la fonction timeit de Python. En faisant cela nous observe que la fonction dico_reseau met environ plus de 0,20 secondes alors que la fonction create_network met environ 0,18 secondes. Donc la deuxième fonction  est plus rapide que la première. \n"
   ]
  },
  {
   "cell_type": "markdown",
   "id": "6c16f4c2",
   "metadata": {},
   "source": [
    "Question 11 : \n",
    "\n",
    "Théorie : \n",
    "Les deux heuristiques ont pour objectif de trouver des personnes qui font partie de la même communauté que la personne donnée (ou la personne la plus populaire). La fonction find_community_by_decreasing_popularity trie toutes les personnes du réseau social par ordre décroissant de popularité, puis trouve une communauté à partir des personnes triées. La fonction find_community_from_person, quant à elle, prend en paramètre un réseau social et une personne et renvoie une liste des personnes qui font partie de la même communauté que cette personne.\n",
    "\n",
    "Expérience : \n",
    "On peut comparer les deux heuristiques en comparant leur complexité et le temps d'exécution pour trouver une communauté. La fonction find_community_from_person est plus rapide car elle ne doit trier qu'une personne et parcourir le réseau pour trouver une communauté. Le temps d'exécution de la fonction find_community_by_decreasing_popularity est plus long que celui de la fonction find_community_from_person car elle doit trier toutes les personnes dans le réseau alors que la fonction find_community_from_person ne doit trier qu'une seule personne."
   ]
  }
 ],
 "metadata": {
  "kernelspec": {
   "display_name": "Python 3",
   "language": "python",
   "name": "python3"
  },
  "language_info": {
   "codemirror_mode": {
    "name": "ipython",
    "version": 3
   },
   "file_extension": ".py",
   "mimetype": "text/x-python",
   "name": "python",
   "nbconvert_exporter": "python",
   "pygments_lexer": "ipython3",
   "version": "3.8.8"
  }
 },
 "nbformat": 4,
 "nbformat_minor": 5
}
