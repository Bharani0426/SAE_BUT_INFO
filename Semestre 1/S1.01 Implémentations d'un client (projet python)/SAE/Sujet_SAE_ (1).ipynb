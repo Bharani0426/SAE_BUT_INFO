{
 "cells": [
  {
   "cell_type": "markdown",
   "metadata": {
    "deletable": false,
    "editable": false,
    "run_control": {
     "frozen": true
    }
   },
   "source": [
    "# <center> Etude de communautés dans un réseau social</center>\n",
    "<center> SAE 1.01 / 2022 - 23 </center>\n",
    "\n"
   ]
  },
  {
   "cell_type": "markdown",
   "metadata": {
    "deletable": false,
    "editable": false,
    "run_control": {
     "frozen": true
    }
   },
   "source": [
    "Cette SAE est à faire en **binôme**.\n",
    "\n",
    "**Calendrier**\n",
    "- Un contrôle de 2h en lien avec le contenu de cette SAE aura lieu le mercredi **26 octobre** 2022.\n",
    "- Le projet est à rendre le vendredi **28 octobre** 2022. Les modalités de rendu vous seront précisées par votre enseignant.\n",
    "\n",
    "**Evaluation**\n",
    "- Le projet comptera pour 40% de la note de SAE 1.01. <BR>\n",
    "    Il sera particulièrement tenu compte de la qualité du code, des **commentaires** et **docstrings**, des fonctions de **tests unitaires** pour les fonctions renvoyant des résultats. <BR><BR>\n",
    "    \n",
    "- Le contrôle compte pour 60% de la note finale."
   ]
  },
  {
   "cell_type": "markdown",
   "metadata": {
    "deletable": false,
    "editable": false,
    "run_control": {
     "frozen": true
    }
   },
   "source": [
    "## <center> Sujet </center>\n",
    "\n",
    "Une *communauté* est un ensemble de personnes développant des interactions dans un réseau social.\n",
    "\n",
    "Dans ce projet, on étudie des communautés modélisées sous différentes formes. Pour cela, on développe des fonctions permettant d'extraire des informations relatives à ces réseaux. "
   ]
  },
  {
   "cell_type": "markdown",
   "metadata": {
    "deletable": false,
    "editable": false,
    "run_control": {
     "frozen": true
    }
   },
   "source": [
    "On modélise, dans un premier temps, les interactions entre personnes dans un tableau `amis` de chaînes de caractères contenant les prénoms des membres du réseau et tel que `amis[2*i]` a des interactions avec `amis[2*i+1]`.\n",
    "\n",
    "On suppose que chaque interaction n'est décrite qu'une seule fois dans le tableau, et qu'une personne n'a pas d'interaction avec elle-même.\n",
    "\n",
    "**Exemple** : "
   ]
  },
  {
   "cell_type": "code",
   "execution_count": 92,
   "metadata": {
    "deletable": false,
    "editable": false
   },
   "outputs": [],
   "source": [
    "amis = [\"Alice\", \"Bob\", \"Alice\", \"Charlie\", \"Bob\", \"Denis\"]"
   ]
  },
  {
   "cell_type": "markdown",
   "metadata": {
    "deletable": false,
    "editable": false,
    "run_control": {
     "frozen": true
    }
   },
   "source": [
    "Ici, \n",
    "- Alice a des interactions Bob et Charlie, \n",
    "- Bob a des intractions avec Alice et Denis,\n",
    "- Charlie a des interactions avec Alice et\n",
    "- Denis a des interactions avec Bob."
   ]
  },
  {
   "cell_type": "markdown",
   "metadata": {
    "deletable": false,
    "editable": false,
    "run_control": {
     "frozen": true
    }
   },
   "source": [
    "#### Question préliminaire : Modélisation d'un réseau par un tableau\n",
    "\n",
    "Muriel, Yasmine et Joël sont amis. Yasmine est amie avec Thomas. \n",
    "Joël, Nassim, Andrea et Ali sont amis. Thomas est ami de Daria et Carole. Thierry, Axel et Léo sont amis. Léo est ami de Valentin qui est ami d'Andrea.\n",
    "\n",
    "- Construire un tableau `p_amis` qui modélise ce réseau d'amitié en selon le principe qui vient d'être décrit."
   ]
  },
  {
   "cell_type": "code",
   "execution_count": 93,
   "metadata": {},
   "outputs": [],
   "source": [
    "p_amis = [\"Thomas\", \"Carole\", \"Daria\", \"Thomas\", \"Yasmine\", \"Joel\", \"Muriel\", \"Yasmine\", \"Joel\", \"Andrea\", \"Nassim\", \n",
    "          \"Ali\", \"Nassim\", \"Joel\", \"Ali\", \"Andrea\", \"Valentin\", \"Léo\", \"Axel\", \"Thierry\", \"Léo\"]\n",
    "#Le nom des amis est classé cote à cote pour chaque interaction"
   ]
  },
  {
   "cell_type": "markdown",
   "metadata": {
    "deletable": false,
    "editable": false,
    "run_control": {
     "frozen": true
    }
   },
   "source": [
    "#### Question 1 : Nombre d'amis d'une personne\n",
    "\n",
    "- Étant donné un tableau `amis`, écrire une fonction `nb_amis(amis, prenom)` qui retourne le nombre d'amis de `prenom` à partir des données du tableau `amis`. "
   ]
  },
  {
   "cell_type": "code",
   "execution_count": 103,
   "metadata": {},
   "outputs": [
    {
     "name": "stdout",
     "output_type": "stream",
     "text": [
      "2\n"
     ]
    }
   ],
   "source": [
    "def nb_amis (amis, prenom):\n",
    "    \"\"\"Cette fonction renvoie le nombre d'amis du prénom entré en paramètres avec les données du tableau entré en paramètres\"\"\"\n",
    "    x=1\n",
    "    nb=0\n",
    "    iterations=[]\n",
    "    if amis [0] == prenom:\n",
    "        if amis[1] != amis[0]:\n",
    "            nb+=1\n",
    "    while x<len(amis):\n",
    "        if amis[x] is amis[-1]:    #Vérifie si l'élément est le dernier élément(-1)\n",
    "            if amis[x]==prenom:    #vérifie si l'élément est égal au prénom\n",
    "                if amis[-2] != amis[x]: #vérifie si l'avant dernier élément est différent du dernier sinon tout s'arrête\n",
    "                    nb+=1\n",
    "                    break\n",
    "                else:\n",
    "                    break\n",
    "            else:\n",
    "                break\n",
    "        else: #on arrive ici si l'élément n'est pas le dernier\n",
    "            if amis[x]==prenom:\n",
    "                if amis[x+1]!=amis[x] and amis[x-1]!=amis[x] and amis[x+1]!=amis[x-1]:     \n",
    "                    nb+=2\n",
    "                    #rajoute 2 au compteur si les deux amis sont différents de l'élément actuel\n",
    "                elif amis[x+1]!=amis[x] and amis[x-1]==amis[x] or amis[x-1]!=amis[x] and amis[x+1]==amis[x]:\n",
    "                    nb+=1\n",
    "                     #rajoute 1 au compteur si un ami est le même l'élément actuel\n",
    "                elif amis[x+1]!=amis[x] and amis[x-1]!=amis[x] and amis[x+1]==amis[x-1]:     \n",
    "                    nb+=1\n",
    "                x+=1\n",
    "            else:\n",
    "                x+=1\n",
    "    return nb\n",
    "a=nb_amis(amis, \"Charlie\")\n",
    "print(a)"
   ]
  },
  {
   "cell_type": "code",
   "execution_count": null,
   "metadata": {},
   "outputs": [],
   "source": [
    "assert nb_amis(amis,\"Bob\")<len(amis),\"Le nombre d'amis d'un membre ne doit pas dépasser le nombre de membres du réseau\"\n",
    "assert prenom in amis, \"le prénom doit être dans le tableau des amis\""
   ]
  },
  {
   "cell_type": "markdown",
   "metadata": {
    "deletable": false,
    "editable": false,
    "run_control": {
     "frozen": true
    }
   },
   "source": [
    "#### Question 2 : Nombre de membres d'un réseau social \n",
    "\n",
    "- Ecrire une fonction `taille_reseau(amis)` qui à partir d'un tableau `amis`retourne le nombre de personnes distinctes participant à ce réseau social."
   ]
  },
  {
   "cell_type": "code",
   "execution_count": 98,
   "metadata": {},
   "outputs": [
    {
     "name": "stdout",
     "output_type": "stream",
     "text": [
      "4\n"
     ]
    }
   ],
   "source": [
    "def taille_reseau(amis):\n",
    "    \"\"\"Retourne le nombre de membres distincts (dont plusieurs occurences ne compteront pour qu'une)\n",
    "    d'un réseau passé en paramètres\"\"\"\n",
    "    tab = [] \n",
    "    for x in amis : \n",
    "        if x not in tab: \n",
    "            tab.append(x) \n",
    "            #si l'élément n'est pas dans le tableau des éléments uniques il est ajouté\n",
    "    return len(tab)\n",
    "a=taille_reseau(amis)\n",
    "print(a)"
   ]
  },
  {
   "cell_type": "code",
   "execution_count": null,
   "metadata": {},
   "outputs": [],
   "source": [
    "assert taille_reseau(p_amis)=13"
   ]
  },
  {
   "cell_type": "markdown",
   "metadata": {
    "deletable": false,
    "editable": false,
    "run_control": {
     "frozen": true
    }
   },
   "source": [
    "#### Question 3 :  Lecture des données d'un réseau à partir d'un fichier\n",
    "On suppose que les données sur un réseau social sont stockées dans un fichier CSV de la manière suivante :\n",
    "```\n",
    "prenom1;prenom2\n",
    "prenom3;prenom4\n",
    "prenom5;prenom6\n",
    "...\n",
    "```\n",
    "Autrement dit, chaque ligne du fichier contient une paire de prénoms séparés par un `';'` correspondant à deux personnes ayant des interactions. \n",
    "\n",
    "**NB** : Quatre fichiers CSV de ce type sont fournis dans le répertoire `files/`, il s'agit des fichiers`Communaute1.csv`, `Communaute2.csv`,`Communaute3.csv` et `Communaute4.csv`. \n",
    "Il est recommandé d'en fabriquer d'autres. \n",
    "\n",
    "- Ecrire une fonction `lecture_reseau(path)` prenant en paramètre un chemin vers un tel fichier CSV et retournant un tableau modélisant les interactions entre les personnes du fichier."
   ]
  },
  {
   "cell_type": "code",
   "execution_count": 96,
   "metadata": {},
   "outputs": [
    {
     "name": "stdout",
     "output_type": "stream",
     "text": [
      "['Giedrius', 'Mady', 'Kirsa', 'Vittore', 'Barbra', 'Faizel', 'Vittorio', 'Vittore', 'Louis', 'Placide', 'Vittorio', 'Barbra', 'Cloe', 'Björn', 'Vittore', 'Barbra', 'Mady', 'Rufino', 'Cloe', 'Vittorio', 'Vittorio', 'Placide', 'Olavi', 'Rufino', 'Vittore', 'Cloe', 'Teodor', 'Cloe', 'Louis', 'Cloe', 'Idelle', 'Mady', 'Illtyd', 'Giedrius', 'Teodor', 'Olavi', 'Vittore', 'Mady', 'Rufino', 'Giedrius', 'Placide', 'Louis', 'Louis', 'Vittorio', 'Giedrius', 'Glenys', 'Björn', 'Olavi', 'Faizel', 'Placide', 'Rufino', 'Illtyd', 'Placide', 'Louis', 'Kirsa', 'Vittorio', 'Mady', 'Placide', 'Illtyd', 'Olavi', 'Vittorio', 'Placide', 'Cloe', 'Mady', 'Rufino', 'Vittorio', 'Placide', 'Rufino', 'Rufino', 'Vittorio', 'Giedrius', 'Illtyd', 'Rufino', 'Teodor', 'Olavi', 'Rufino', 'Placide', 'Jakob', 'Cloe', 'Björn', 'Barbra', 'Kirsa', 'Idelle', 'Cloe', 'Rufino', 'Illtyd', 'Rufino', 'Faizel', 'Rufino', 'Louis', 'Björn', 'Cloe', 'Vittorio', 'Olavi', 'Vittorio', 'Mady', 'Glenys', 'Cloe', 'Björn', 'Idelle', 'Mady', 'Björn', 'Barbra', 'Vittorio', 'Louis', 'Björn', 'Mady', 'Vittorio', 'Illtyd', 'Olavi', 'Olavi', 'Barbra', 'Björn', 'Giedrius', 'Mady', 'Placide', 'Faizel', 'Barbra', 'Marwa', 'Idelle', 'Placide', 'Olavi', 'Olavi', 'Placide', 'Cain', 'Vittorio', 'Louis', 'Placide', 'Jakob', 'Kirsa', 'Barbra', 'Marwa', 'Vittorio', 'Louis', 'Idelle', 'Illtyd', 'Louis', 'Giedrius', 'Olavi', 'Barbra', 'Mady', 'Barbra', 'Barbra', 'Rufino', 'Cloe', 'Barbra', 'Louis', 'Björn', 'Cloe', 'Björn', 'Mady', 'Barbra', 'Rufino', 'Björn', 'Kirsa', 'Vittore', 'Björn', 'Faizel', 'Jakob', 'Kirsa', 'Cloe', 'Vittore', 'Vittore', 'Björn', 'Björn', 'Teodor', 'Barbra', 'Rufino', 'Louis', 'Rufino', 'Vittorio', 'Mady', 'Olavi', 'Teodor', 'Teodor', 'Mady', 'Faizel', 'Olavi', 'Björn', 'Cloe', 'Cloe', 'Idelle', 'Barbra', 'Louis', 'Barbra', 'Vittore', 'Giedrius', 'Vittorio', 'Placide', 'Cain', 'Vittore', 'Louis', 'Mady', 'Jakob', 'Barbra', 'Vittore', 'Björn', 'Mady', 'Placide', 'Rufino', 'Placide', 'Cloe', 'Vittorio', 'Barbra', 'Illtyd', 'Rufino', 'Vittore', 'Louis', 'Olavi', 'Louis']\n"
     ]
    }
   ],
   "source": [
    "def lecture_reseau (path) : \n",
    "    \"\"\"renvoie un tableau représentant les interactions (amitiés) entre membres du fichiers\"\"\"\n",
    "    res = []\n",
    "    f=open(path,encoding=\"utf-8\",mode=\"r\")\n",
    "    #ouvre le fichier\n",
    "    li = f.readline()\n",
    "    while (\"\"!=li):\n",
    "        #permet de parcourir le fichier de ligne en ligne jusqu'à la fin\n",
    "        li=li.strip()\n",
    "        tab=li.split(\";\")\n",
    "        res.append(tab[0])\n",
    "        res.append(tab[1])\n",
    "        #ajoute au tableau les valeurs modélisant les interactions\n",
    "        li = f.readline()\n",
    "    f.close()\n",
    "    #ferme le fichier car nous ne l'utiliseront plus\n",
    "    return res\n",
    "a=lecture_reseau(\"files/Communaute1.csv\")\n",
    "print(a)"
   ]
  },
  {
   "cell_type": "code",
   "execution_count": null,
   "metadata": {},
   "outputs": [],
   "source": [
    "assert res in f,\"le tableau doit contenir des membres du fichiers exclusivement\""
   ]
  },
  {
   "cell_type": "markdown",
   "metadata": {
    "deletable": false,
    "editable": false,
    "run_control": {
     "frozen": true
    }
   },
   "source": [
    "#### Question 4 : Modélisation d'un réseau par un dictionnaire\n",
    "On préfère pour la suite, utiliser une modélisation du réseau social par un dictionnaire dont où les clés sont les prénoms des personnes du réseau et la valeur associé à une clé est le tableau des amis de la personne indiquée par la clé.\n",
    "\n",
    "- A partir d'un tableau `amis` modélisant les interactions entre personnes d'un réseau, écrire une fonction `dico_reseau(amis)` qui retourne un dictionnaire dont les clés sont les prénoms des membres du réseau et les valeurs le tableau de leurs amis."
   ]
  },
  {
   "cell_type": "code",
   "execution_count": 100,
   "metadata": {},
   "outputs": [
    {
     "name": "stdout",
     "output_type": "stream",
     "text": [
      "{'Alice': ['Bob'], 'Bob': ['Alice'], 'Charlie': ['Bob', 'Alice'], 'Denis': ['Bob']}\n"
     ]
    }
   ],
   "source": [
    "def dico_reseau(amis):\n",
    "    \"\"\"Renvoie un dictionnaire créé à partir des données du tableau entré en paramètres, \n",
    "    les prénoms des membres étant les clefs et leurs amis leur valeur\"\"\"\n",
    "    dicoamis={}\n",
    "    w=1\n",
    "    if amis[0]==amis[w]:\n",
    "        w+=1\n",
    "    else:\n",
    "        dicoamis[amis[0]]=[amis[w]]      \n",
    "        while w<len(amis):\n",
    "            if amis[w] is amis[-1]:\n",
    "                #vérifie que chaque élément qui passe est le dernier ou pas (càd l'indice -1)\n",
    "                if amis[-1]==amis[len(amis)-2]:\n",
    "                    return dicoamis\n",
    "                    break\n",
    "                    #stoppe la boucle car nous venons de passer le dernier élément \n",
    "                else:\n",
    "                    dicoamis[amis[-1]]=[amis[-2]]\n",
    "                    return dicoamis\n",
    "                    break\n",
    "            else:\n",
    "                if amis[w] in dicoamis:\n",
    "                    w+=1     \n",
    "                else:\n",
    "                    #vérifie le nombre de fois qu'il faut ajouter 1 au compteur selon les interactions différentes possibles\n",
    "                    if amis[w+1]!=amis[w] and amis[w-1]!=amis[w] and amis[w+1]!=amis[w-1]:\n",
    "                        #si l'élément au dessus et en dessous de l'élément actuel sont différents de ce dernier \n",
    "                        #et si ils sont différents entre eux on crée un couple de ces valeurs\n",
    "                        dicoamis[amis[w]]=[amis[w+1],amis[w-1]] \n",
    "                        w+=1 \n",
    "                    elif amis[w+1]!=amis[w] and amis[w-1]!=amis[w] and amis[w+1]==amis[w-1]:\n",
    "                        dicoamis[amis[w]]=[amis[w+1]]\n",
    "                        #si l'élément au dessus et en dessous de l'élément actuel sont différents de ce dernier \n",
    "                        #et si ils sont égaux entre eux on crée un couple de ces valeurs \n",
    "                        w+=1\n",
    "                    elif amis[w+1]!=amis[w] and amis[w-1]==amis[w]:\n",
    "                        #si l'élément au dessus de l'élément actuel est différent de ce dernier\n",
    "                        #et si celui en dessous est égal à l'élément actuel, on crée un couple avec seulement la valeur du dessus\n",
    "                        dicoamis[amis[w]]=[amis[w+1]]\n",
    "                        w+=1\n",
    "                    elif amis[w-1]!=amis[w] and amis[w+1]==amis[w]:\n",
    "                        #si l'élément en dessous de l'élément actuel est différent de ce dernier\n",
    "                        #et si celui au dessus est égal à l'élément actuel, on crée un couple avec seulement la valeur du dessous\n",
    "                        dicoamis[amis[w]]=[amis[w+1]]\n",
    "                        dicoamis[amis[w]]=[amis[w-1]]\n",
    "                        w+=1\n",
    "                    else:   \n",
    "                        w+=1\n",
    "a=dico_reseau(amis)\n",
    "print(a)"
   ]
  },
  {
   "cell_type": "code",
   "execution_count": null,
   "metadata": {},
   "outputs": [],
   "source": [
    "assert dicoamis in amis, \"les données du dico doivent être dans le tableau d'amis\"\n"
   ]
  },
  {
   "cell_type": "markdown",
   "metadata": {
    "deletable": false,
    "editable": false,
    "run_control": {
     "frozen": true
    }
   },
   "source": [
    "#### Question 5 : Nombre d'amis des personnes les plus populaires\n",
    "\n",
    "- A partir d'un dictionnaire `dico_reseau` modélisant les interactions dans un réseau d'amis, écrire une fonction `nb_amis_plus_pop (dico_reseau)` qui retourne le nombre d'amis des personnes les plus populaires du réseau."
   ]
  },
  {
   "cell_type": "code",
   "execution_count": 101,
   "metadata": {},
   "outputs": [
    {
     "name": "stdout",
     "output_type": "stream",
     "text": [
      "2\n"
     ]
    }
   ],
   "source": [
    "def nb_amis_plus_pop (dico_reseau):\n",
    "    res = 0\n",
    "    tab = list(dico_reseau)\n",
    "    i=0\n",
    "    while i<len(tab):\n",
    "        if res<len(dico_reseau[tab[0]]):\n",
    "            res = len(dico_reseau[tab[1]])\n",
    "        i+=1\n",
    "        #compteur du nb d'amis\n",
    "    return res \n",
    "a=lecture_reseau(\"newfiles/Communaute1.csv\")\n",
    "b=dico_reseau(a)\n",
    "c=nb_amis_plus_pop(b)\n",
    "print(c)"
   ]
  },
  {
   "cell_type": "code",
   "execution_count": null,
   "metadata": {},
   "outputs": [],
   "source": [
    "assert nb_amis_plus_pop(dico_reseau(lecture_reseau(\"files/Communaute1.csv\")))==int,\"Le nombre d'amis doit être un entier\""
   ]
  },
  {
   "cell_type": "markdown",
   "metadata": {
    "deletable": false,
    "editable": false,
    "run_control": {
     "frozen": true
    }
   },
   "source": [
    "#### Question 6 : Personnes les plus populaires\n",
    "\n",
    "- A partir d'un dictionnaire `dico_reseau` modélisant les interactions dans un réseau d'amis, écrire une fonction `les_plus_pop (dico_reseau)` qui retourne un tableau contenant les prénoms de toutes les personnes les plus populaires du réseau."
   ]
  },
  {
   "cell_type": "code",
   "execution_count": 102,
   "metadata": {},
   "outputs": [
    {
     "name": "stdout",
     "output_type": "stream",
     "text": [
      "['Cloe', 'Louis', 'Rufino', 'Idelle', 'Mady', 'Björn', 'Giedrius', 'Glenys', 'Vittorio', 'Marwa', 'Faizel', 'Vittore', 'Teodor', 'Kirsa', 'Illtyd', 'Jakob', 'Cain']\n"
     ]
    }
   ],
   "source": [
    "def les_plus_pop (dico_reseau): \n",
    "    res = []\n",
    "    tab = list(dico_reseau)\n",
    "    i=0\n",
    "    while i<len(tab):\n",
    "        if len (dico_reseau[tab[i]])==nb_amis_plus_pop(dico_reseau):\n",
    "            res.append(tab[i])\n",
    "            #ajoute les prénoms des membres du réseau au tableau\n",
    "        i+=1\n",
    "    return res \n",
    "a=lecture_reseau(\"newfiles/Communaute1.csv\")\n",
    "b=dico_reseau(a)\n",
    "c=les_plus_pop(b)\n",
    "print(c)\n",
    "#On appelle ici la fonction qui a en paramètres le dico réseau qui est lié au fichier Communaute1.csv"
   ]
  },
  {
   "cell_type": "code",
   "execution_count": null,
   "metadata": {},
   "outputs": [],
   "source": [
    "assert les_plus_pop(dico_reseau(lecture_reseau(\"files/Communaute.csv\")))==str"
   ]
  }
 ],
 "metadata": {
  "kernelspec": {
   "display_name": "Python 3 (ipykernel)",
   "language": "python",
   "name": "python3"
  },
  "language_info": {
   "codemirror_mode": {
    "name": "ipython",
    "version": 3
   },
   "file_extension": ".py",
   "mimetype": "text/x-python",
   "name": "python",
   "nbconvert_exporter": "python",
   "pygments_lexer": "ipython3",
   "version": "3.9.12"
  },
  "latex_envs": {
   "LaTeX_envs_menu_present": true,
   "autoclose": false,
   "autocomplete": true,
   "bibliofile": "biblio.bib",
   "cite_by": "apalike",
   "current_citInitial": 1,
   "eqLabelWithNumbers": true,
   "eqNumInitial": 1,
   "hotkeys": {
    "equation": "Ctrl-E",
    "itemize": "Ctrl-I"
   },
   "labels_anchors": false,
   "latex_user_defs": false,
   "report_style_numbering": false,
   "user_envs_cfg": false
  }
 },
 "nbformat": 4,
 "nbformat_minor": 2
}
